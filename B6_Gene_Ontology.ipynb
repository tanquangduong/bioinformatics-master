{
 "cells": [
  {
   "cell_type": "code",
   "execution_count": 1,
   "metadata": {},
   "outputs": [],
   "source": [
    "#use pip install as conda install requires a lot of downgrades at this stage\n",
    "import pygraphviz as pgv\n",
    "from IPython.core.display import Image"
   ]
  },
  {
   "cell_type": "markdown",
   "metadata": {},
   "source": [
    "## The cell below comes from the Orthology notebook"
   ]
  },
  {
   "cell_type": "code",
   "execution_count": 2,
   "metadata": {},
   "outputs": [],
   "source": [
    "import requests\n",
    " \n",
    "ensembl_server = 'http://rest.ensembl.org'\n",
    "\n",
    "def do_request(server, service, *args, **kwargs):\n",
    "    params = ''\n",
    "    for a in args:\n",
    "        if a is not None:\n",
    "            params += '/' + a\n",
    "    req = requests.get('%s/%s%s' % (server, service, params),\n",
    "                       params=kwargs,\n",
    "                       headers={'Content-Type': 'application/json'})\n",
    " \n",
    "    if not req.ok:\n",
    "        req.raise_for_status()\n",
    "    return req.json()"
   ]
  },
  {
   "cell_type": "markdown",
   "metadata": {},
   "source": [
    "### 1. Retrieving all GO terms associated with the LCT gene\n",
    "Note the free-form definition and the varying namespace for each term. The first two of the eleven reported items in the loop are as follows (this may change when you run it, because the database may have been updated):"
   ]
  },
  {
   "cell_type": "code",
   "execution_count": 3,
   "metadata": {},
   "outputs": [],
   "source": [
    "lct_id = 'ENSG00000115850'"
   ]
  },
  {
   "cell_type": "code",
   "execution_count": 4,
   "metadata": {},
   "outputs": [
    {
     "name": "stdout",
     "output_type": "stream",
     "text": [
      "36\n",
      "dict_keys(['db_display_name', 'linkage_types', 'info_text', 'version', 'synonyms', 'info_type', 'dbname', 'description', 'primary_id', 'display_id'])\n",
      "GO:0000016 molecular_function lactase activity\n",
      "Catalysis of the reaction: lactose + H2O = D-glucose + D-galactose.\n",
      "\n",
      "GO:0000016 molecular_function lactase activity\n",
      "Catalysis of the reaction: lactose + H2O = D-glucose + D-galactose.\n",
      "\n",
      "GO:0000016 molecular_function lactase activity\n",
      "Catalysis of the reaction: lactose + H2O = D-glucose + D-galactose.\n",
      "\n",
      "GO:0003824 molecular_function catalytic activity\n",
      "Catalysis of a biochemical reaction at physiological temperatures. In biologically catalyzed reactions, the reactants are known as substrates, and the catalysts are naturally occurring macromolecular substances known as enzymes. Enzymes possess specific binding sites for substrates, and are usually composed wholly or largely of protein, but RNA that has catalytic activity (ribozyme) is often also regarded as enzymatic.\n",
      "\n",
      "GO:0004336 molecular_function galactosylceramidase activity\n",
      "Catalysis of the reaction: D-galactosyl-N-acylsphingosine + H2O = D-galactose + N-acylsphingosine.\n",
      "\n",
      "GO:0004348 molecular_function glucosylceramidase activity\n",
      "Catalysis of the reaction: D-glucosyl-N-acylsphingosine + H2O = D-glucose + N-acylsphingosine.\n",
      "\n",
      "GO:0004553 molecular_function hydrolase activity, hydrolyzing O-glycosyl compounds\n",
      "Catalysis of the hydrolysis of any O-glycosyl bond.\n",
      "\n",
      "GO:0004553 molecular_function hydrolase activity, hydrolyzing O-glycosyl compounds\n",
      "Catalysis of the hydrolysis of any O-glycosyl bond.\n",
      "\n",
      "GO:0004553 molecular_function hydrolase activity, hydrolyzing O-glycosyl compounds\n",
      "Catalysis of the hydrolysis of any O-glycosyl bond.\n",
      "\n",
      "GO:0005886 cellular_component plasma membrane\n",
      "The membrane surrounding a cell that separates the cell from its external environment. It consists of a phospholipid bilayer and associated proteins.\n",
      "\n",
      "GO:0005886 cellular_component plasma membrane\n",
      "The membrane surrounding a cell that separates the cell from its external environment. It consists of a phospholipid bilayer and associated proteins.\n",
      "\n",
      "GO:0005886 cellular_component plasma membrane\n",
      "The membrane surrounding a cell that separates the cell from its external environment. It consists of a phospholipid bilayer and associated proteins.\n",
      "\n",
      "GO:0005975 biological_process carbohydrate metabolic process\n",
      "The chemical reactions and pathways involving carbohydrates, any of a group of organic compounds based of the general formula Cx(H2O)y.\n",
      "\n",
      "GO:0005975 biological_process carbohydrate metabolic process\n",
      "The chemical reactions and pathways involving carbohydrates, any of a group of organic compounds based of the general formula Cx(H2O)y.\n",
      "\n",
      "GO:0005990 biological_process lactose catabolic process\n",
      "The chemical reactions and pathways resulting in the breakdown of lactose, the disaccharide galactopyranosyl-glucose.\n",
      "\n",
      "GO:0008152 biological_process metabolic process\n",
      "The chemical reactions and pathways, including anabolism and catabolism, by which living organisms transform chemical substances. Metabolic processes typically transform small molecules, but also include macromolecular processes such as DNA repair and replication, and protein synthesis and degradation.\n",
      "\n",
      "GO:0008422 molecular_function beta-glucosidase activity\n",
      "Catalysis of the hydrolysis of terminal, non-reducing beta-D-glucose residues with release of beta-D-glucose.\n",
      "\n",
      "GO:0008422 molecular_function beta-glucosidase activity\n",
      "Catalysis of the hydrolysis of terminal, non-reducing beta-D-glucose residues with release of beta-D-glucose.\n",
      "\n",
      "GO:0016020 cellular_component membrane\n",
      "A lipid bilayer along with all the proteins and protein complexes embedded in it an attached to it.\n",
      "\n",
      "GO:0016324 cellular_component apical plasma membrane\n",
      "The region of the plasma membrane located at the apical end of the cell.\n",
      "\n",
      "GO:0016787 molecular_function hydrolase activity\n",
      "Catalysis of the hydrolysis of various bonds, e.g. C-O, C-N, C-C, phosphoric anhydride bonds, etc.\n",
      "\n",
      "GO:0016798 molecular_function hydrolase activity, acting on glycosyl bonds\n",
      "Catalysis of the hydrolysis of any glycosyl bond.\n",
      "\n",
      "GO:0017042 molecular_function glycosylceramidase activity\n",
      "Catalysis of the reaction: glycosyl-N-acylsphingosine + H2O = a sugar + N-acylsphingosine.\n",
      "\n",
      "GO:0042803 molecular_function protein homodimerization activity\n",
      "Binding to an identical protein to form a homodimer.\n",
      "\n",
      "GO:0046477 biological_process glycosylceramide catabolic process\n",
      "The chemical reactions and pathways resulting in the breakdown of glycosylceramides, any compound formed by the replacement of the glycosidic hydroxyl group of a cyclic form of a monosaccharide (or derivative) by a ceramide group.\n",
      "\n",
      "GO:0080079 molecular_function cellobiose glucosidase activity\n",
      "Catalysis of the reaction: D-cellobiose + H2O = 2 D-glucose.\n",
      "\n",
      "GO:0098591 cellular_component external side of apical plasma membrane\n",
      "The leaflet the apical region of the plasma membrane that faces away from the cytoplasm and any proteins embedded or anchored in it or attached to its surface.\n",
      "\n",
      "GO:0140749 molecular_function phlorizin hydrolase activity\n",
      "Catalysis of the reaction: phlorizin + H2O = beta-D-glucose + phloretin.\n",
      "\n",
      "GO:1901733 biological_process quercetin catabolic process\n",
      "The chemical reactions and pathways resulting in the breakdown of quercetin.\n",
      "\n",
      "GO:2000892 biological_process cellobiose catabolic process\n",
      "The chemical reactions and pathways resulting in the breakdown of a cellobiose.\n",
      "\n",
      "GO:0004553 molecular_function hydrolase activity, hydrolyzing O-glycosyl compounds\n",
      "Catalysis of the hydrolysis of any O-glycosyl bond.\n",
      "\n",
      "GO:0004553 molecular_function hydrolase activity, hydrolyzing O-glycosyl compounds\n",
      "Catalysis of the hydrolysis of any O-glycosyl bond.\n",
      "\n",
      "GO:0005975 biological_process carbohydrate metabolic process\n",
      "The chemical reactions and pathways involving carbohydrates, any of a group of organic compounds based of the general formula Cx(H2O)y.\n",
      "\n",
      "GO:0008152 biological_process metabolic process\n",
      "The chemical reactions and pathways, including anabolism and catabolism, by which living organisms transform chemical substances. Metabolic processes typically transform small molecules, but also include macromolecular processes such as DNA repair and replication, and protein synthesis and degradation.\n",
      "\n",
      "GO:0016787 molecular_function hydrolase activity\n",
      "Catalysis of the hydrolysis of various bonds, e.g. C-O, C-N, C-C, phosphoric anhydride bonds, etc.\n",
      "\n",
      "GO:0016798 molecular_function hydrolase activity, acting on glycosyl bonds\n",
      "Catalysis of the hydrolysis of any glycosyl bond.\n",
      "\n"
     ]
    }
   ],
   "source": [
    "refs = do_request(ensembl_server, 'xrefs/id', lct_id, external_db='GO', all_levels='1')\n",
    "print(len(refs))\n",
    "print(refs[0].keys())\n",
    "for ref in refs:\n",
    "    go_id = ref['primary_id']\n",
    "    details = do_request(ensembl_server, 'ontology/id', go_id)\n",
    "    print('%s %s %s' % (go_id,  details['namespace'], ref['description']))\n",
    "    print('%s\\n' % details['definition'])"
   ]
  },
  {
   "cell_type": "markdown",
   "metadata": {},
   "source": [
    "### 2. Concentrate on the lactase activity molecular function and retrieve more detailed information about it (the following go_id comes from the previous step)"
   ]
  },
  {
   "cell_type": "code",
   "execution_count": 5,
   "metadata": {},
   "outputs": [
    {
     "name": "stdout",
     "output_type": "stream",
     "text": [
      "synonyms: []\n",
      "definition: Catalysis of the reaction: lactose + H2O = D-glucose + D-galactose.\n",
      "accession: GO:0000016\n",
      "namespace: molecular_function\n",
      "children: []\n",
      "name: lactase activity\n",
      "{'namespace': 'molecular_function', 'accession': 'GO:0004553', 'name': 'hydrolase activity, hydrolyzing O-glycosyl compounds', 'subsets': [], 'ontology': 'GO', 'synonyms': [], 'definition': 'Catalysis of the hydrolysis of any O-glycosyl bond.'}\n",
      "subsets: []\n",
      "ontology: GO\n",
      "\n",
      "GO:0004553 127\n"
     ]
    }
   ],
   "source": [
    "go_id = 'GO:0000016'\n",
    "my_data = do_request(ensembl_server, 'ontology/id', go_id)\n",
    "for k, v in my_data.items():\n",
    "    if k == 'parents':\n",
    "        for parent in v:\n",
    "            print(parent)\n",
    "            parent_id = parent['accession']\n",
    "    else:\n",
    "        print('%s: %s' % (k, str(v)))\n",
    "print()\n",
    "parent_data = do_request(ensembl_server, 'ontology/id', parent_id)\n",
    "print(parent_id, len(parent_data['children']))"
   ]
  },
  {
   "cell_type": "markdown",
   "metadata": {},
   "source": [
    "We print the lactase activity record (which is currently a node of the GO tree molecular function) and retrieve a list of potential parents. There is a single parent for this record. We retrieve it and print the number of children."
   ]
  },
  {
   "cell_type": "markdown",
   "metadata": {},
   "source": [
    "### 3. Retrieve all the general terms for the lactase activity molecular function (again, the parent and all other ancestors):"
   ]
  },
  {
   "cell_type": "code",
   "execution_count": 11,
   "metadata": {},
   "outputs": [
    {
     "name": "stdout",
     "output_type": "stream",
     "text": [
      "GO:0004553\n",
      "hydrolase activity, hydrolyzing O-glycosyl compounds Catalysis of the hydrolysis of any O-glycosyl bond.\n",
      "\t is a: GO:0016798\n",
      "\n",
      "GO:0003674\n",
      "molecular_function A molecular process that can be carried out by the action of a single macromolecular machine, usually via direct physical interactions with other molecular entities. Function in this sense denotes an action, or activity, that a gene product (or a complex) performs. These actions are described from two distinct but related perspectives: (1) biochemical activity, and (2) role as a component in a larger system/process.\n",
      "\t is a: \n",
      "\n",
      "GO:0016798\n",
      "hydrolase activity, acting on glycosyl bonds Catalysis of the hydrolysis of any glycosyl bond.\n",
      "\t is a: GO:0016787\n",
      "\n",
      "GO:0000016\n",
      "lactase activity Catalysis of the reaction: lactose + H2O = D-glucose + D-galactose.\n",
      "\t is a: GO:0004553\n",
      "\n",
      "GO:0016787\n",
      "hydrolase activity Catalysis of the hydrolysis of various bonds, e.g. C-O, C-N, C-C, phosphoric anhydride bonds, etc.\n",
      "\t is a: GO:0003824\n",
      "\n",
      "GO:0003824\n",
      "catalytic activity Catalysis of a biochemical reaction at physiological temperatures. In biologically catalyzed reactions, the reactants are known as substrates, and the catalysts are naturally occurring macromolecular substances known as enzymes. Enzymes possess specific binding sites for substrates, and are usually composed wholly or largely of protein, but RNA that has catalytic activity (ribozyme) is often also regarded as enzymatic.\n",
      "\t is a: GO:0003674\n",
      "\n"
     ]
    }
   ],
   "source": [
    "refs = do_request(ensembl_server, 'ontology/ancestors/chart', go_id)\n",
    "for go, entry in refs.items():\n",
    "    print(go)\n",
    "    term = entry['term']\n",
    "    print('%s %s' % (term['name'], term['definition']))\n",
    "    is_a = entry.get('is_a', [])\n",
    "    print('\\t is a: %s\\n' % ', '.join([x['accession'] for x in is_a]))\n"
   ]
  },
  {
   "cell_type": "markdown",
   "metadata": {},
   "source": [
    "### 4. Define a function to create a dictionary with the ancestor relationship for a term, along with some summary information for each term returned in a pair: "
   ]
  },
  {
   "cell_type": "code",
   "execution_count": 7,
   "metadata": {},
   "outputs": [],
   "source": [
    "def get_upper(go_id):\n",
    "    parents = {}\n",
    "    node_data = {}\n",
    "    refs = do_request(ensembl_server, 'ontology/ancestors/chart', go_id)\n",
    "    for ref, entry in refs.items():\n",
    "        my_data = do_request(ensembl_server, 'ontology/id', ref)\n",
    "        node_data[ref] = {'name': entry['term']['name'], 'children': my_data['children']}\n",
    "        try:\n",
    "            parents[ref] = [x['accession'] for x in entry['is_a']]\n",
    "        except KeyError:\n",
    "            pass  # Top of hierarchy\n",
    "    return parents, node_data"
   ]
  },
  {
   "cell_type": "markdown",
   "metadata": {},
   "source": [
    "### 5. Print a tree of relationships for the lactase activity term. For this, we will use the pygraphivz library:"
   ]
  },
  {
   "cell_type": "code",
   "execution_count": 8,
   "metadata": {},
   "outputs": [],
   "source": [
    "parents, node_data = get_upper(go_id)"
   ]
  },
  {
   "cell_type": "code",
   "execution_count": 9,
   "metadata": {},
   "outputs": [
    {
     "name": "stdout",
     "output_type": "stream",
     "text": [
      "strict digraph \"\" {\n",
      "\t\"molecular_function\n",
      "(GO:0003674)\" -> \"...30...\";\n",
      "\t\"molecular_function\n",
      "(GO:0003674)\" -> \"catalytic activity\n",
      "(GO:0003824)\";\n",
      "\t\"catalytic activity\n",
      "(GO:0003824)\" -> \"hydrolase activity\n",
      "(GO:0016787)\";\n",
      "\t\"catalytic activity\n",
      "(GO:0003824)\" -> \"...23...\";\n",
      "\t\"hydrolase activity\n",
      "(GO:0016787)\" -> \"...24...\";\n",
      "\t\"hydrolase activity\n",
      "(GO:0016787)\" -> \"hydrolase activity\n",
      "acting on glycosyl bonds\n",
      "(GO:0016798)\";\n",
      "\t\"hydrolase activity\n",
      "acting on glycosyl bonds\n",
      "(GO:0016798)\" -> \"hydrolase activity\n",
      "hydrolyzing O-glycosyl compounds\n",
      "(GO:0004553)\";\n",
      "\t\"hydrolase activity\n",
      "acting on glycosyl bonds\n",
      "(GO:0016798)\" -> \"...2...\";\n",
      "\t\"hydrolase activity\n",
      "hydrolyzing O-glycosyl compounds\n",
      "(GO:0004553)\" -> \"...126...\";\n",
      "\t\"hydrolase activity\n",
      "hydrolyzing O-glycosyl compounds\n",
      "(GO:0004553)\" -> \"lactase activity\n",
      "(GO:0000016)\";\n",
      "}\n",
      "\n"
     ]
    },
    {
     "data": {
      "image/png": "[encoded data removed]",
      "text/plain": [
       "<IPython.core.display.Image object>"
      ]
     },
     "execution_count": 9,
     "metadata": {},
     "output_type": "execute_result"
    }
   ],
   "source": [
    "g = pgv.AGraph(directed=True)\n",
    "for ofs, ofs_parents in parents.items():\n",
    "    ofs_text = '%s\\n(%s)' % (node_data[ofs]['name'].replace(', ', '\\n'), ofs)\n",
    "    for parent in ofs_parents:\n",
    "        parent_text = '%s\\n(%s)' % (node_data[parent]['name'].replace(', ', '\\n'), parent)\n",
    "        children = node_data[parent]['children']\n",
    "        if len(children) < 3:\n",
    "            for child in children:\n",
    "                if child['accession'] in node_data:\n",
    "                    continue\n",
    "                g.add_edge(parent_text, child['accession'])\n",
    "        else:\n",
    "            g.add_edge(parent_text, '...%d...' % (len(children) - 1))\n",
    "        g.add_edge(parent_text, ofs_text)\n",
    "print(g)\n",
    "g.graph_attr['label']='Ontology tree for Lactase activity'\n",
    "g.node_attr['shape']='rectangle'\n",
    "g.layout(prog='dot')\n",
    "g.draw('graph.png')\n",
    "Image(\"graph.png\")"
   ]
  },
  {
   "cell_type": "code",
   "execution_count": 10,
   "metadata": {},
   "outputs": [
    {
     "name": "stdout",
     "output_type": "stream",
     "text": [
      "GO:0000016\n",
      "GO:0004553 hydrolase activity, hydrolyzing O-glycosyl compounds Catalysis of the hydrolysis of any O-glycosyl bond.\n",
      "GO:0016798 hydrolase activity, acting on glycosyl bonds Catalysis of the hydrolysis of any glycosyl bond.\n",
      "GO:0016787 hydrolase activity Catalysis of the hydrolysis of various bonds, e.g. C-O, C-N, C-C, phosphoric anhydride bonds, etc.\n",
      "GO:0003824 catalytic activity Catalysis of a biochemical reaction at physiological temperatures. In biologically catalyzed reactions, the reactants are known as substrates, and the catalysts are naturally occurring macromolecular substances known as enzymes. Enzymes possess specific binding sites for substrates, and are usually composed wholly or largely of protein, but RNA that has catalytic activity (ribozyme) is often also regarded as enzymatic.\n",
      "GO:0003674 molecular_function A molecular process that can be carried out by the action of a single macromolecular machine, usually via direct physical interactions with other molecular entities. Function in this sense denotes an action, or activity, that a gene product (or a complex) performs. These actions are described from two distinct but related perspectives: (1) biochemical activity, and (2) role as a component in a larger system/process.\n"
     ]
    }
   ],
   "source": [
    "print(go_id)\n",
    "refs = do_request(ensembl_server, 'ontology/descendants', go_id)\n",
    "for go in refs:\n",
    "    print(go['accession'], go['name'], go['definition'])"
   ]
  },
  {
   "cell_type": "code",
   "execution_count": null,
   "metadata": {},
   "outputs": [],
   "source": []
  }
 ],
 "metadata": {
  "kernelspec": {
   "display_name": "Python 3 (ipykernel)",
   "language": "python",
   "name": "python3"
  },
  "language_info": {
   "codemirror_mode": {
    "name": "ipython",
    "version": 3
   },
   "file_extension": ".py",
   "mimetype": "text/x-python",
   "name": "python",
   "nbconvert_exporter": "python",
   "pygments_lexer": "ipython3",
   "version": "3.10.11"
  }
 },
 "nbformat": 4,
 "nbformat_minor": 2
}
