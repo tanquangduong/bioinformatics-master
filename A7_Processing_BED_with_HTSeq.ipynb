{
 "cells": [
  {
   "cell_type": "markdown",
   "metadata": {},
   "source": [
    "### HTSeq - Install it in linux-based system\n",
    "HTSeq (https://htseq.readthedocs.io) is an alternative library that's used for processing NGS data. Most of the functionality made available by HTSeq is actually available in other libraries covered in this book, but you should be aware of it as an alternative way of processing NGS data. HTSeq supports, among others, FASTA, FASTQ, SAM (via pysam), VCF, GFF, and Browser Extensible Data (BED) file formats. It also includes a set of abstractions for processing (mapped) genomic data, encompassing concepts like genomic positions and intervals or alignments. A complete examination of the features of this library is beyond our scope, so we will concentrate on a small subset of features. We will take this opportunity to also introduce the BED file format.\n",
    "\n",
    "The BED format allows for the specification of features for annotations tracks. It has many uses, but it's common to load BED files into genome browsers to visualize features. Each line includes information about at least the position (chromosome, start and end) and also optional fields such as name or strand. Full details about the format can be found at https://genome.ucsc.edu/FAQ/FAQformat.html#format1."
   ]
  },
  {
   "cell_type": "code",
   "execution_count": 1,
   "metadata": {},
   "outputs": [],
   "source": [
    "from collections import defaultdict\n",
    "import re\n",
    "import HTSeq"
   ]
  },
  {
   "cell_type": "markdown",
   "metadata": {},
   "source": [
    "Our simple example will use data from the region where the LCT gene is located in the human genome. The LCT gene codifies lactase, an enzyme involved in the digestion of lactose."
   ]
  },
  {
   "cell_type": "markdown",
   "metadata": {},
   "source": [
    "### 1. Read the file"
   ]
  },
  {
   "cell_type": "code",
   "execution_count": 2,
   "metadata": {},
   "outputs": [],
   "source": [
    "lct_bed = HTSeq.BED_Reader('LCT.bed')"
   ]
  },
  {
   "cell_type": "markdown",
   "metadata": {},
   "source": [
    "### 2. Extract all the types of features via its name "
   ]
  },
  {
   "cell_type": "code",
   "execution_count": 3,
   "metadata": {},
   "outputs": [
    {
     "name": "stdout",
     "output_type": "stream",
     "text": [
      "defaultdict(<class 'int'>, {'ENSE': 27, 'NM': 17, 'CCDS': 17})\n"
     ]
    }
   ],
   "source": [
    "feature_types = defaultdict(int)\n",
    "\n",
    "for rec in lct_bed:\n",
    "    last_rec = rec\n",
    "    feature_types[re.search('([A-Z]+)', rec.name).group(0)] += 1\n",
    "\n",
    "print(feature_types)\n",
    "\n",
    "#Code specific to this dataset, document"
   ]
  },
  {
   "cell_type": "markdown",
   "metadata": {},
   "source": [
    "### 3. Store the last record so that we can inspect it"
   ]
  },
  {
   "cell_type": "code",
   "execution_count": 4,
   "metadata": {},
   "outputs": [
    {
     "name": "stdout",
     "output_type": "stream",
     "text": [
      "<GenomicFeature: BED line 'CCDS2178.11' at 2: 135788543 -> 135788322 (strand '-')>\n",
      "CCDS2178.11\n",
      "<class 'HTSeq.features.GenomicFeature'>\n",
      "2:[135788323,135788544)/-\n",
      "<class 'HTSeq._HTSeq.GenomicInterval'>\n"
     ]
    }
   ],
   "source": [
    "print(last_rec)\n",
    "print(last_rec.name)\n",
    "print(type(last_rec))\n",
    "interval = last_rec.iv\n",
    "print(interval)\n",
    "print(type(interval))"
   ]
  },
  {
   "cell_type": "markdown",
   "metadata": {},
   "source": [
    "### 4. Dig deeper into the interval"
   ]
  },
  {
   "cell_type": "code",
   "execution_count": 5,
   "metadata": {},
   "outputs": [
    {
     "name": "stdout",
     "output_type": "stream",
     "text": [
      "2 135788323 135788544\n",
      "-\n",
      "221\n",
      "135788543\n",
      "2:135788323/-\n",
      "<class 'HTSeq._HTSeq.GenomicPosition'>\n"
     ]
    }
   ],
   "source": [
    "print(interval.chrom, interval.start, interval.end)\n",
    "print(interval.strand)\n",
    "print(interval.length)\n",
    "print(interval.start_d)\n",
    "print(interval.start_as_pos)\n",
    "print(type(interval.start_as_pos))\n",
    "\n",
    "#talk about overlaps\n"
   ]
  },
  {
   "cell_type": "markdown",
   "metadata": {},
   "source": [
    "### 5. Extract some statistics from our coding regions (CCDS records)"
   ]
  },
  {
   "cell_type": "code",
   "execution_count": 6,
   "metadata": {},
   "outputs": [
    {
     "name": "stdout",
     "output_type": "stream",
     "text": [
      "Num exons: 17 / Begin: 135788323 / End 135837169\n",
      "Smaller exon: 79 / Larger exon: 1551 / Mean size: 340.2\n"
     ]
    }
   ],
   "source": [
    "exon_start = None\n",
    "exon_end = None\n",
    "sizes = []\n",
    "for rec in lct_bed:\n",
    "    if not rec.name.startswith('CCDS'):\n",
    "        continue\n",
    "    interval = rec.iv\n",
    "    exon_start = min(interval.start, exon_start or interval.start)\n",
    "    exon_end = max(interval.length, exon_end or interval.end)\n",
    "    sizes.append(interval.length)\n",
    "sizes.sort()\n",
    "print(\"Num exons: %d / Begin: %d / End %d\" % (len(sizes), exon_start, exon_end))\n",
    "print(\"Smaller exon: %d / Larger exon: %d / Mean size: %.1f\" % (sizes[0], sizes[-1], sum(sizes)/len(sizes)))"
   ]
  },
  {
   "cell_type": "code",
   "execution_count": null,
   "metadata": {},
   "outputs": [],
   "source": []
  }
 ],
 "metadata": {
  "kernelspec": {
   "display_name": "Python 3 (ipykernel)",
   "language": "python",
   "name": "python3"
  },
  "language_info": {
   "codemirror_mode": {
    "name": "ipython",
    "version": 3
   },
   "file_extension": ".py",
   "mimetype": "text/x-python",
   "name": "python",
   "nbconvert_exporter": "python",
   "pygments_lexer": "ipython3",
   "version": "3.10.11"
  }
 },
 "nbformat": 4,
 "nbformat_minor": 2
}
